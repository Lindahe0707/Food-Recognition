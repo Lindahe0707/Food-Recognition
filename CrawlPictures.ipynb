{
 "cells": [
  {
   "cell_type": "code",
   "execution_count": 1,
   "metadata": {},
   "outputs": [],
   "source": [
    "# Crawl websites for pictures\n",
    "from icrawler.builtin import GoogleImageCrawler\n",
    "\n",
    "#Crawl training data from Google Image\n",
    "\n",
    "def crawl_image(word, path, image_num, dates):\n",
    "    google_crawler = GoogleImageCrawler( feeder_threads=1, parser_threads=1, downloader_threads=4, \n",
    "                                    storage={'root_dir': path})\n",
    "    filters = dict(type = 'photo', size='medium', date= dates)\n",
    "\n",
    "    google_crawler.crawl(keyword= word, filters = filters, max_num= image_num,\n",
    "    min_size=(200,200), max_size=None, file_idx_offset=0)\n"
   ]
  },
  {
   "cell_type": "code",
   "execution_count": null,
   "metadata": {},
   "outputs": [],
   "source": [
    "#Train dataset\n",
    "crawl_image(\"cooked beef\",'/Users/apple/Mcgill/689PROJECT/code/pictures/train/1_beef', \n",
    "            1000, ((2017, 1, 1), (2017, 12, 30)) )\n",
    "crawl_image(\"cooked chicken\",'/Users/apple/Mcgill/689PROJECT/code/pictures/train/2_chicken',\n",
    "            1000,((2017, 1, 1), (2017, 12, 30)) )\n",
    "crawl_image(\"cooked lamb\",'/Users/apple/Mcgill/689PROJECT/code/pictures/train/3_lamb', \n",
    "            1000, ((2017, 1, 1), (2017, 12, 30)))\n",
    "crawl_image(\"cooked pork\",'/Users/apple/Mcgill/689PROJECT/code/pictures/train/4_pork',\n",
    "            1000, ((2017, 1, 1), (2017, 12, 30)) )\n",
    "crawl_image(\"cooked tuna\",'/Users/apple/Mcgill/689PROJECT/code/pictures/train/5_tuna', \n",
    "            1000, ((2017, 1, 1), (2017, 12, 30)) )\n",
    "crawl_image(\"cooked turkey\",'/Users/apple/Mcgill/689PROJECT/code/pictures/train/6_turkey', \n",
    "            1000, ((2017, 1, 1), (2017, 12, 30)) )"
   ]
  },
  {
   "cell_type": "code",
   "execution_count": null,
   "metadata": {},
   "outputs": [],
   "source": [
    "#Test dataset\n",
    "crawl_image(\"cooked beef\",'/Users/apple/Mcgill/689PROJECT/code/pictures/test/1_beef', \n",
    "                200, ((2018, 1, 1), (2018, 6, 30)))\n",
    "crawl_image(\"cooked chicken\",'/Users/apple/Mcgill/689PROJECT/code/pictures/test/2_chicken', \n",
    "                200 )\n",
    "\n",
    "crawl_image(\"cooked lamb\",'/Users/apple/Mcgill/689PROJECT/code/pictures/test/3_lamb', \n",
    "                200 )\n",
    "crawl_image(\"cooked pork\",'/Users/apple/Mcgill/689PROJECT/code/pictures/test/4_prok', \n",
    "                200 )\n",
    "\n",
    "crawl_image(\"cooked tuna\",'/Users/apple/Mcgill/689PROJECT/code/pictures/test/5_tuna', \n",
    "                200 )\n",
    "crawl_image(\"cooked turkey\",'/Users/apple/Mcgill/689PROJECT/code/pictures/test/6_turkey', \n",
    "                200 )\n"
   ]
  },
  {
   "cell_type": "code",
   "execution_count": null,
   "metadata": {},
   "outputs": [],
   "source": [
    "#Validation set\n",
    "crawl_image(\"cooked beef\",'/Users/apple/Mcgill/689PROJECT/code/pictures/validation/1_beef', \n",
    "                200)\n",
    "crawl_image(\"cooked chicken\",'/Users/apple/Mcgill/689PROJECT/code/pictures/validation/2_chicken', \n",
    "                200 )\n",
    "\n",
    "crawl_image(\"cooked lamb\",'/Users/apple/Mcgill/689PROJECT/code/pictures/validation/3_lamb', \n",
    "                200 )\n",
    "crawl_image(\"cooked pork\",'/Users/apple/Mcgill/689PROJECT/code/pictures/validation/4_prok', \n",
    "                200 )\n",
    "\n",
    "crawl_image(\"cooked tuna\",'/Users/apple/Mcgill/689PROJECT/code/pictures/validation/5_tuna', \n",
    "                200 )\n",
    "crawl_image(\"cooked turkey\",'/Users/apple/Mcgill/689PROJECT/code/pictures/validation/6_turkey', \n",
    "                200 )\n"
   ]
  },
  {
   "cell_type": "code",
   "execution_count": 1,
   "metadata": {},
   "outputs": [],
   "source": [
    "#Test in Google Cloud Vision\n",
    "import io\n",
    "import os\n",
    "import sys\n",
    "\n",
    "# Imports the Google Cloud client library\n",
    "from google.cloud import vision\n",
    "from google.cloud.vision import types\n",
    "\n",
    "os.environ[\"GOOGLE_APPLICATION_CREDENTIALS\"]= \"client's credential file in .json format \"\n",
    "# Instantiates a client\n",
    "client = vision.ImageAnnotatorClient()\n",
    "\n",
    "# This is for running the .py file in terminal\n",
    "# file_name = os.path.join(\n",
    "#     os.path.dirname(__file__),\n",
    "#     '/Users/apple/Mcgill/689PROJECT/code/pictures/train/3_lamb/000004.jpg')\n",
    "\n",
    "# This is for running the .ipynb file on jupyter notebook\n",
    "file_name = os.path.join(\n",
    "    os.path.abspath(''), \"pictures/train/3_lamb/000004.jpg\")\n",
    "\n",
    "# Load the image into memory\n",
    "with io.open(file_name, 'rb') as image_file:\n",
    "    content = image_file.read()\n",
    "\n",
    "image = types.Image(content=content)\n",
    "print(type(image))\n",
    "\n",
    "# Performs label detection on the image file\n",
    "response = client.label_detection(image=image)\n",
    "labels = response.label_annotations\n",
    "\n",
    "print('Labels:')\n"
   ]
  }
 ],
 "metadata": {
  "kernelspec": {
   "display_name": "Python 3",
   "language": "python",
   "name": "python3"
  },
  "language_info": {
   "codemirror_mode": {
    "name": "ipython",
    "version": 3
   },
   "file_extension": ".py",
   "mimetype": "text/x-python",
   "name": "python",
   "nbconvert_exporter": "python",
   "pygments_lexer": "ipython3",
   "version": "3.6.4"
  }
 },
 "nbformat": 4,
 "nbformat_minor": 2
}
