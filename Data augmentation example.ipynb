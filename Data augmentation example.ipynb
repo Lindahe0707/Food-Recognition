{
 "cells": [
  {
   "cell_type": "code",
   "execution_count": null,
   "metadata": {},
   "outputs": [],
   "source": [
    "#An example of data augmentation\n",
    "\n",
    "from keras.preprocessing.image import ImageDataGenerator, array_to_img, img_to_array, load_img\n",
    "\n",
    "datagen = ImageDataGenerator(\n",
    "        rotation_range=40,\n",
    "        width_shift_range=0.2,\n",
    "        height_shift_range=0.2,\n",
    "        shear_range=0.2,\n",
    "        zoom_range=0.2,\n",
    "        horizontal_flip=True,\n",
    "        fill_mode='nearest')\n",
    "\n",
    "img = load_img('/Users/apple/Mcgill/689PROJECT/code/pictures/train/1_beef/000002.jpg')\n",
    "x = img_to_array(img)  # this is a Numpy array with shape (300, 300, 3)\n",
    "x = x.reshape((1,) + x.shape)  # this is a Numpy array with shape (1, 300, 300, 3)\n",
    "x.shape\n",
    "\n",
    "i = 0\n",
    "for batch in datagen.flow(x, batch_size=1,\n",
    "                         save_to_dir='/Users/apple/Mcgill/689PROJECT/code/data_augmentation', save_prefix='000023', save_format='jpeg'):\n",
    "    i += 1\n",
    "    if i > 16:\n",
    "        break  # otherwise the loop won't stop\n"
   ]
  }
 ],
 "metadata": {
  "kernelspec": {
   "display_name": "Python 3",
   "language": "python",
   "name": "python3"
  },
  "language_info": {
   "codemirror_mode": {
    "name": "ipython",
    "version": 3
   },
   "file_extension": ".py",
   "mimetype": "text/x-python",
   "name": "python",
   "nbconvert_exporter": "python",
   "pygments_lexer": "ipython3",
   "version": "3.6.4"
  }
 },
 "nbformat": 4,
 "nbformat_minor": 2
}
