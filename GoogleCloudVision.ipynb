{
 "cells": [
  {
   "cell_type": "code",
   "execution_count": null,
   "metadata": {},
   "outputs": [],
   "source": [
    "#Test Google Cloud Vision accuracy on test dataset\n",
    "import io\n",
    "import os\n",
    "import sys\n",
    "\n",
    "# Imports the Google Cloud client library\n",
    "from google.cloud import vision\n",
    "from google.cloud.vision import types\n",
    "\n",
    "os.environ[\"GOOGLE_APPLICATION_CREDENTIALS\"]=\"/Users/apple/Mcgill/689PROJECT/code/ProjectForTest-b35866aacccc.json\"\n",
    "# Instantiates a client\n",
    "client = vision.ImageAnnotatorClient()\n",
    "\n",
    "def google_recog(kind, rel_path):\n",
    "    meat_list = [\"pork\", \"tuna\", \"turkey\", \"beef\", \"chicken\", \"lamb\"]\n",
    "    meat_list.remove(kind)\n",
    "    total = 0\n",
    "    count = 0\n",
    "    ab_path = os.path.abspath('')\n",
    "    for filename in os.listdir(ab_path + rel_path):\n",
    "        if filename.endswith(\".jpg\") or filename.endswith(\".jpeg\") or filename.endswith(\".png\"): \n",
    "            total += 1 \n",
    "            file_ab_name = os.path.join(ab_path, rel_path[1:], filename)\n",
    "\n",
    "            # Loads the image into memory\n",
    "            with io.open(file_ab_name, 'rb') as image_file:\n",
    "                content = image_file.read()\n",
    "            image = types.Image(content=content)\n",
    "\n",
    "            # Performs label detection on the image file\n",
    "            response = client.label_detection(image=image)\n",
    "            labels = response.label_annotations\n",
    "\n",
    "            # Print labels \n",
    "            for label in labels:\n",
    "                labelname = label.description.lower()\n",
    "                #print(labelname)\n",
    "                #Check if the label contains the name of right meat.\n",
    "                if kind in labelname:\n",
    "                    count += 1\n",
    "                    #print(filename + ' ' + labelname)\n",
    "                    break\n",
    "                #Check if the label contans name of wrong meats\n",
    "                elif [meat for meat in meat_list if meat in labelname]:\n",
    "                    break\n",
    "                        \n",
    "    #print(count)\n",
    "    print(count/total)"
   ]
  },
  {
   "cell_type": "code",
   "execution_count": null,
   "metadata": {},
   "outputs": [],
   "source": [
    "google_recog(\"beef\", \"/pictures/test/1_beef\")\n",
    "#Accuracy = 0.486\n",
    "google_recog(\"chicken\", \"/pictures/test/2_chicken\")\n",
    "#Accuracy = 0.697\n",
    "google_recog(\"lamb\",\"/pictures/test/3_lamb\")\n",
    "#Accuracy = 0.107\n",
    "google_recog(\"pork\", \"/pictures/test/4_pork\")\n",
    "#Accuracy = 0.522\n",
    "google_recog(\"tuna\", \"/pictures/test/5_tuna\")\n",
    "#Accuracy = 0.020\n",
    "google_recog(\"turkey\",\"/pictures/test/6_turkey\")\n",
    "#Accuracy = 0.551"
   ]
  }
 ],
 "metadata": {
  "kernelspec": {
   "display_name": "Python 3",
   "language": "python",
   "name": "python3"
  },
  "language_info": {
   "codemirror_mode": {
    "name": "ipython",
    "version": 3
   },
   "file_extension": ".py",
   "mimetype": "text/x-python",
   "name": "python",
   "nbconvert_exporter": "python",
   "pygments_lexer": "ipython3",
   "version": "3.6.4"
  }
 },
 "nbformat": 4,
 "nbformat_minor": 2
}
